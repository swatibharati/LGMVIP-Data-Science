{
  "nbformat": 4,
  "nbformat_minor": 0,
  "metadata": {
    "colab": {
      "provenance": [],
      "include_colab_link": true
    },
    "kernelspec": {
      "name": "python3",
      "display_name": "Python 3"
    },
    "language_info": {
      "name": "python"
    }
  },
  "cells": [
    {
      "cell_type": "markdown",
      "metadata": {
        "id": "view-in-github",
        "colab_type": "text"
      },
      "source": [
        "<a href=\"https://colab.research.google.com/github/swatibharati/LGMVIP-Data-Science/blob/main/Stock_Market_Prediction_And_Forecasting_Using_Stacked_LSTM_Task2.ipynb\" target=\"_parent\"><img src=\"https://colab.research.google.com/assets/colab-badge.svg\" alt=\"Open In Colab\"/></a>"
      ]
    },
    {
      "cell_type": "code",
      "execution_count": null,
      "metadata": {
        "id": "ykv0_ez3C3PA"
      },
      "outputs": [],
      "source": [
        "#import libraries\n",
        "import numpy as np\n",
        "import matplotlib.pyplot as plt\n",
        "import pandas as pd\n",
        "from sklearn.preprocessing import MinMaxScaler\n",
        "from tensorflow.python.keras.models import Sequential\n",
        "from tensorflow.python.keras.layers import Dense\n",
        "from tensorflow.python.keras.layers import LSTM\n",
        "import math\n",
        "from sklearn.metrics import mean_squared_error"
      ]
    },
    {
      "cell_type": "code",
      "source": [
        "#load data\n",
        "data=pd.read_csv('TataGlobal.csv')"
      ],
      "metadata": {
        "id": "P7mofWksDBmB"
      },
      "execution_count": null,
      "outputs": []
    },
    {
      "cell_type": "code",
      "source": [
        "data.head()"
      ],
      "metadata": {
        "colab": {
          "base_uri": "https://localhost:8080/",
          "height": 206
        },
        "id": "CLnDp8qbDPYh",
        "outputId": "a4be344e-9fcd-4db6-f8d7-ec8f5f510fd0"
      },
      "execution_count": null,
      "outputs": [
        {
          "output_type": "execute_result",
          "data": {
            "text/plain": [
              "         Date    Open    High     Low    Last   Close  Total Trade Quantity  \\\n",
              "0  2018-10-08  208.00  222.25  206.85  216.00  215.15             4642146.0   \n",
              "1  2018-10-05  217.00  218.60  205.90  210.25  209.20             3519515.0   \n",
              "2  2018-10-04  223.50  227.80  216.15  217.25  218.20             1728786.0   \n",
              "3  2018-10-03  230.00  237.50  225.75  226.45  227.60             1708590.0   \n",
              "4  2018-10-01  234.55  234.60  221.05  230.30  230.90             1534749.0   \n",
              "\n",
              "   Turnover (Lacs)  \n",
              "0         10062.83  \n",
              "1          7407.06  \n",
              "2          3815.79  \n",
              "3          3960.27  \n",
              "4          3486.05  "
            ],
            "text/html": [
              "\n",
              "  <div id=\"df-387307af-ebf0-4d8b-8707-1a589a96b131\">\n",
              "    <div class=\"colab-df-container\">\n",
              "      <div>\n",
              "<style scoped>\n",
              "    .dataframe tbody tr th:only-of-type {\n",
              "        vertical-align: middle;\n",
              "    }\n",
              "\n",
              "    .dataframe tbody tr th {\n",
              "        vertical-align: top;\n",
              "    }\n",
              "\n",
              "    .dataframe thead th {\n",
              "        text-align: right;\n",
              "    }\n",
              "</style>\n",
              "<table border=\"1\" class=\"dataframe\">\n",
              "  <thead>\n",
              "    <tr style=\"text-align: right;\">\n",
              "      <th></th>\n",
              "      <th>Date</th>\n",
              "      <th>Open</th>\n",
              "      <th>High</th>\n",
              "      <th>Low</th>\n",
              "      <th>Last</th>\n",
              "      <th>Close</th>\n",
              "      <th>Total Trade Quantity</th>\n",
              "      <th>Turnover (Lacs)</th>\n",
              "    </tr>\n",
              "  </thead>\n",
              "  <tbody>\n",
              "    <tr>\n",
              "      <th>0</th>\n",
              "      <td>2018-10-08</td>\n",
              "      <td>208.00</td>\n",
              "      <td>222.25</td>\n",
              "      <td>206.85</td>\n",
              "      <td>216.00</td>\n",
              "      <td>215.15</td>\n",
              "      <td>4642146.0</td>\n",
              "      <td>10062.83</td>\n",
              "    </tr>\n",
              "    <tr>\n",
              "      <th>1</th>\n",
              "      <td>2018-10-05</td>\n",
              "      <td>217.00</td>\n",
              "      <td>218.60</td>\n",
              "      <td>205.90</td>\n",
              "      <td>210.25</td>\n",
              "      <td>209.20</td>\n",
              "      <td>3519515.0</td>\n",
              "      <td>7407.06</td>\n",
              "    </tr>\n",
              "    <tr>\n",
              "      <th>2</th>\n",
              "      <td>2018-10-04</td>\n",
              "      <td>223.50</td>\n",
              "      <td>227.80</td>\n",
              "      <td>216.15</td>\n",
              "      <td>217.25</td>\n",
              "      <td>218.20</td>\n",
              "      <td>1728786.0</td>\n",
              "      <td>3815.79</td>\n",
              "    </tr>\n",
              "    <tr>\n",
              "      <th>3</th>\n",
              "      <td>2018-10-03</td>\n",
              "      <td>230.00</td>\n",
              "      <td>237.50</td>\n",
              "      <td>225.75</td>\n",
              "      <td>226.45</td>\n",
              "      <td>227.60</td>\n",
              "      <td>1708590.0</td>\n",
              "      <td>3960.27</td>\n",
              "    </tr>\n",
              "    <tr>\n",
              "      <th>4</th>\n",
              "      <td>2018-10-01</td>\n",
              "      <td>234.55</td>\n",
              "      <td>234.60</td>\n",
              "      <td>221.05</td>\n",
              "      <td>230.30</td>\n",
              "      <td>230.90</td>\n",
              "      <td>1534749.0</td>\n",
              "      <td>3486.05</td>\n",
              "    </tr>\n",
              "  </tbody>\n",
              "</table>\n",
              "</div>\n",
              "      <button class=\"colab-df-convert\" onclick=\"convertToInteractive('df-387307af-ebf0-4d8b-8707-1a589a96b131')\"\n",
              "              title=\"Convert this dataframe to an interactive table.\"\n",
              "              style=\"display:none;\">\n",
              "        \n",
              "  <svg xmlns=\"http://www.w3.org/2000/svg\" height=\"24px\"viewBox=\"0 0 24 24\"\n",
              "       width=\"24px\">\n",
              "    <path d=\"M0 0h24v24H0V0z\" fill=\"none\"/>\n",
              "    <path d=\"M18.56 5.44l.94 2.06.94-2.06 2.06-.94-2.06-.94-.94-2.06-.94 2.06-2.06.94zm-11 1L8.5 8.5l.94-2.06 2.06-.94-2.06-.94L8.5 2.5l-.94 2.06-2.06.94zm10 10l.94 2.06.94-2.06 2.06-.94-2.06-.94-.94-2.06-.94 2.06-2.06.94z\"/><path d=\"M17.41 7.96l-1.37-1.37c-.4-.4-.92-.59-1.43-.59-.52 0-1.04.2-1.43.59L10.3 9.45l-7.72 7.72c-.78.78-.78 2.05 0 2.83L4 21.41c.39.39.9.59 1.41.59.51 0 1.02-.2 1.41-.59l7.78-7.78 2.81-2.81c.8-.78.8-2.07 0-2.86zM5.41 20L4 18.59l7.72-7.72 1.47 1.35L5.41 20z\"/>\n",
              "  </svg>\n",
              "      </button>\n",
              "      \n",
              "  <style>\n",
              "    .colab-df-container {\n",
              "      display:flex;\n",
              "      flex-wrap:wrap;\n",
              "      gap: 12px;\n",
              "    }\n",
              "\n",
              "    .colab-df-convert {\n",
              "      background-color: #E8F0FE;\n",
              "      border: none;\n",
              "      border-radius: 50%;\n",
              "      cursor: pointer;\n",
              "      display: none;\n",
              "      fill: #1967D2;\n",
              "      height: 32px;\n",
              "      padding: 0 0 0 0;\n",
              "      width: 32px;\n",
              "    }\n",
              "\n",
              "    .colab-df-convert:hover {\n",
              "      background-color: #E2EBFA;\n",
              "      box-shadow: 0px 1px 2px rgba(60, 64, 67, 0.3), 0px 1px 3px 1px rgba(60, 64, 67, 0.15);\n",
              "      fill: #174EA6;\n",
              "    }\n",
              "\n",
              "    [theme=dark] .colab-df-convert {\n",
              "      background-color: #3B4455;\n",
              "      fill: #D2E3FC;\n",
              "    }\n",
              "\n",
              "    [theme=dark] .colab-df-convert:hover {\n",
              "      background-color: #434B5C;\n",
              "      box-shadow: 0px 1px 3px 1px rgba(0, 0, 0, 0.15);\n",
              "      filter: drop-shadow(0px 1px 2px rgba(0, 0, 0, 0.3));\n",
              "      fill: #FFFFFF;\n",
              "    }\n",
              "  </style>\n",
              "\n",
              "      <script>\n",
              "        const buttonEl =\n",
              "          document.querySelector('#df-387307af-ebf0-4d8b-8707-1a589a96b131 button.colab-df-convert');\n",
              "        buttonEl.style.display =\n",
              "          google.colab.kernel.accessAllowed ? 'block' : 'none';\n",
              "\n",
              "        async function convertToInteractive(key) {\n",
              "          const element = document.querySelector('#df-387307af-ebf0-4d8b-8707-1a589a96b131');\n",
              "          const dataTable =\n",
              "            await google.colab.kernel.invokeFunction('convertToInteractive',\n",
              "                                                     [key], {});\n",
              "          if (!dataTable) return;\n",
              "\n",
              "          const docLinkHtml = 'Like what you see? Visit the ' +\n",
              "            '<a target=\"_blank\" href=https://colab.research.google.com/notebooks/data_table.ipynb>data table notebook</a>'\n",
              "            + ' to learn more about interactive tables.';\n",
              "          element.innerHTML = '';\n",
              "          dataTable['output_type'] = 'display_data';\n",
              "          await google.colab.output.renderOutput(dataTable, element);\n",
              "          const docLink = document.createElement('div');\n",
              "          docLink.innerHTML = docLinkHtml;\n",
              "          element.appendChild(docLink);\n",
              "        }\n",
              "      </script>\n",
              "    </div>\n",
              "  </div>\n",
              "  "
            ]
          },
          "metadata": {},
          "execution_count": 3
        }
      ]
    },
    {
      "cell_type": "code",
      "source": [
        "data.tail()"
      ],
      "metadata": {
        "colab": {
          "base_uri": "https://localhost:8080/",
          "height": 206
        },
        "id": "G5tCvrC7DSOK",
        "outputId": "aa991cb6-5f79-470f-dafb-7948192a8554"
      },
      "execution_count": null,
      "outputs": [
        {
          "output_type": "execute_result",
          "data": {
            "text/plain": [
              "            Date    Open    High     Low   Last   Close  Total Trade Quantity  \\\n",
              "1230  2013-10-14  160.85  161.45  157.70  159.3  159.45             1281419.0   \n",
              "1231  2013-10-11  161.15  163.45  159.00  159.8  160.05             1880046.0   \n",
              "1232  2013-10-10  156.00  160.80  155.85  160.3  160.15             3124853.0   \n",
              "1233  2013-10-09  155.70  158.20  154.15  155.3  155.55             2049580.0   \n",
              "1234  2013-10-08  157.00  157.80  155.20  155.8  155.80             1720413.0   \n",
              "\n",
              "      Turnover (Lacs)  \n",
              "1230          2039.09  \n",
              "1231          3030.76  \n",
              "1232          4978.80  \n",
              "1233          3204.49  \n",
              "1234          2688.94  "
            ],
            "text/html": [
              "\n",
              "  <div id=\"df-9ee3cc98-d420-45ca-b32d-7bdd9f3eac86\">\n",
              "    <div class=\"colab-df-container\">\n",
              "      <div>\n",
              "<style scoped>\n",
              "    .dataframe tbody tr th:only-of-type {\n",
              "        vertical-align: middle;\n",
              "    }\n",
              "\n",
              "    .dataframe tbody tr th {\n",
              "        vertical-align: top;\n",
              "    }\n",
              "\n",
              "    .dataframe thead th {\n",
              "        text-align: right;\n",
              "    }\n",
              "</style>\n",
              "<table border=\"1\" class=\"dataframe\">\n",
              "  <thead>\n",
              "    <tr style=\"text-align: right;\">\n",
              "      <th></th>\n",
              "      <th>Date</th>\n",
              "      <th>Open</th>\n",
              "      <th>High</th>\n",
              "      <th>Low</th>\n",
              "      <th>Last</th>\n",
              "      <th>Close</th>\n",
              "      <th>Total Trade Quantity</th>\n",
              "      <th>Turnover (Lacs)</th>\n",
              "    </tr>\n",
              "  </thead>\n",
              "  <tbody>\n",
              "    <tr>\n",
              "      <th>1230</th>\n",
              "      <td>2013-10-14</td>\n",
              "      <td>160.85</td>\n",
              "      <td>161.45</td>\n",
              "      <td>157.70</td>\n",
              "      <td>159.3</td>\n",
              "      <td>159.45</td>\n",
              "      <td>1281419.0</td>\n",
              "      <td>2039.09</td>\n",
              "    </tr>\n",
              "    <tr>\n",
              "      <th>1231</th>\n",
              "      <td>2013-10-11</td>\n",
              "      <td>161.15</td>\n",
              "      <td>163.45</td>\n",
              "      <td>159.00</td>\n",
              "      <td>159.8</td>\n",
              "      <td>160.05</td>\n",
              "      <td>1880046.0</td>\n",
              "      <td>3030.76</td>\n",
              "    </tr>\n",
              "    <tr>\n",
              "      <th>1232</th>\n",
              "      <td>2013-10-10</td>\n",
              "      <td>156.00</td>\n",
              "      <td>160.80</td>\n",
              "      <td>155.85</td>\n",
              "      <td>160.3</td>\n",
              "      <td>160.15</td>\n",
              "      <td>3124853.0</td>\n",
              "      <td>4978.80</td>\n",
              "    </tr>\n",
              "    <tr>\n",
              "      <th>1233</th>\n",
              "      <td>2013-10-09</td>\n",
              "      <td>155.70</td>\n",
              "      <td>158.20</td>\n",
              "      <td>154.15</td>\n",
              "      <td>155.3</td>\n",
              "      <td>155.55</td>\n",
              "      <td>2049580.0</td>\n",
              "      <td>3204.49</td>\n",
              "    </tr>\n",
              "    <tr>\n",
              "      <th>1234</th>\n",
              "      <td>2013-10-08</td>\n",
              "      <td>157.00</td>\n",
              "      <td>157.80</td>\n",
              "      <td>155.20</td>\n",
              "      <td>155.8</td>\n",
              "      <td>155.80</td>\n",
              "      <td>1720413.0</td>\n",
              "      <td>2688.94</td>\n",
              "    </tr>\n",
              "  </tbody>\n",
              "</table>\n",
              "</div>\n",
              "      <button class=\"colab-df-convert\" onclick=\"convertToInteractive('df-9ee3cc98-d420-45ca-b32d-7bdd9f3eac86')\"\n",
              "              title=\"Convert this dataframe to an interactive table.\"\n",
              "              style=\"display:none;\">\n",
              "        \n",
              "  <svg xmlns=\"http://www.w3.org/2000/svg\" height=\"24px\"viewBox=\"0 0 24 24\"\n",
              "       width=\"24px\">\n",
              "    <path d=\"M0 0h24v24H0V0z\" fill=\"none\"/>\n",
              "    <path d=\"M18.56 5.44l.94 2.06.94-2.06 2.06-.94-2.06-.94-.94-2.06-.94 2.06-2.06.94zm-11 1L8.5 8.5l.94-2.06 2.06-.94-2.06-.94L8.5 2.5l-.94 2.06-2.06.94zm10 10l.94 2.06.94-2.06 2.06-.94-2.06-.94-.94-2.06-.94 2.06-2.06.94z\"/><path d=\"M17.41 7.96l-1.37-1.37c-.4-.4-.92-.59-1.43-.59-.52 0-1.04.2-1.43.59L10.3 9.45l-7.72 7.72c-.78.78-.78 2.05 0 2.83L4 21.41c.39.39.9.59 1.41.59.51 0 1.02-.2 1.41-.59l7.78-7.78 2.81-2.81c.8-.78.8-2.07 0-2.86zM5.41 20L4 18.59l7.72-7.72 1.47 1.35L5.41 20z\"/>\n",
              "  </svg>\n",
              "      </button>\n",
              "      \n",
              "  <style>\n",
              "    .colab-df-container {\n",
              "      display:flex;\n",
              "      flex-wrap:wrap;\n",
              "      gap: 12px;\n",
              "    }\n",
              "\n",
              "    .colab-df-convert {\n",
              "      background-color: #E8F0FE;\n",
              "      border: none;\n",
              "      border-radius: 50%;\n",
              "      cursor: pointer;\n",
              "      display: none;\n",
              "      fill: #1967D2;\n",
              "      height: 32px;\n",
              "      padding: 0 0 0 0;\n",
              "      width: 32px;\n",
              "    }\n",
              "\n",
              "    .colab-df-convert:hover {\n",
              "      background-color: #E2EBFA;\n",
              "      box-shadow: 0px 1px 2px rgba(60, 64, 67, 0.3), 0px 1px 3px 1px rgba(60, 64, 67, 0.15);\n",
              "      fill: #174EA6;\n",
              "    }\n",
              "\n",
              "    [theme=dark] .colab-df-convert {\n",
              "      background-color: #3B4455;\n",
              "      fill: #D2E3FC;\n",
              "    }\n",
              "\n",
              "    [theme=dark] .colab-df-convert:hover {\n",
              "      background-color: #434B5C;\n",
              "      box-shadow: 0px 1px 3px 1px rgba(0, 0, 0, 0.15);\n",
              "      filter: drop-shadow(0px 1px 2px rgba(0, 0, 0, 0.3));\n",
              "      fill: #FFFFFF;\n",
              "    }\n",
              "  </style>\n",
              "\n",
              "      <script>\n",
              "        const buttonEl =\n",
              "          document.querySelector('#df-9ee3cc98-d420-45ca-b32d-7bdd9f3eac86 button.colab-df-convert');\n",
              "        buttonEl.style.display =\n",
              "          google.colab.kernel.accessAllowed ? 'block' : 'none';\n",
              "\n",
              "        async function convertToInteractive(key) {\n",
              "          const element = document.querySelector('#df-9ee3cc98-d420-45ca-b32d-7bdd9f3eac86');\n",
              "          const dataTable =\n",
              "            await google.colab.kernel.invokeFunction('convertToInteractive',\n",
              "                                                     [key], {});\n",
              "          if (!dataTable) return;\n",
              "\n",
              "          const docLinkHtml = 'Like what you see? Visit the ' +\n",
              "            '<a target=\"_blank\" href=https://colab.research.google.com/notebooks/data_table.ipynb>data table notebook</a>'\n",
              "            + ' to learn more about interactive tables.';\n",
              "          element.innerHTML = '';\n",
              "          dataTable['output_type'] = 'display_data';\n",
              "          await google.colab.output.renderOutput(dataTable, element);\n",
              "          const docLink = document.createElement('div');\n",
              "          docLink.innerHTML = docLinkHtml;\n",
              "          element.appendChild(docLink);\n",
              "        }\n",
              "      </script>\n",
              "    </div>\n",
              "  </div>\n",
              "  "
            ]
          },
          "metadata": {},
          "execution_count": 4
        }
      ]
    },
    {
      "cell_type": "code",
      "source": [
        "  df1=data.reset_index()['Close']"
      ],
      "metadata": {
        "id": "RB130xsYDUnp"
      },
      "execution_count": null,
      "outputs": []
    },
    {
      "cell_type": "code",
      "source": [
        "df1.shape"
      ],
      "metadata": {
        "colab": {
          "base_uri": "https://localhost:8080/"
        },
        "id": "cHrWoQbBDYlp",
        "outputId": "4723fd23-c32a-4986-91a5-446897f35b6e"
      },
      "execution_count": null,
      "outputs": [
        {
          "output_type": "execute_result",
          "data": {
            "text/plain": [
              "(1235,)"
            ]
          },
          "metadata": {},
          "execution_count": 6
        }
      ]
    },
    {
      "cell_type": "code",
      "source": [
        "plt.plot(df1)"
      ],
      "metadata": {
        "colab": {
          "base_uri": "https://localhost:8080/",
          "height": 282
        },
        "id": "iHOixbQyDa3h",
        "outputId": "be507523-8aaf-4595-fcd9-81bd5309bf52"
      },
      "execution_count": null,
      "outputs": [
        {
          "output_type": "execute_result",
          "data": {
            "text/plain": [
              "[<matplotlib.lines.Line2D at 0x7fb4cd5149d0>]"
            ]
          },
          "metadata": {},
          "execution_count": 7
        },
        {
          "output_type": "display_data",
          "data": {
            "text/plain": [
              "<Figure size 432x288 with 1 Axes>"
            ],
            "image/png": "[encoded data removed]"
          },
          "metadata": {
            "needs_background": "light"
          }
        }
      ]
    },
    {
      "cell_type": "code",
      "source": [
        "scaler = MinMaxScaler(feature_range =(0,1))\n",
        "df1 = scaler.fit_transform(np.array(df1).reshape(-1,1))"
      ],
      "metadata": {
        "id": "8wCD2EfNDe36"
      },
      "execution_count": null,
      "outputs": []
    },
    {
      "cell_type": "code",
      "source": [
        "df1.shape"
      ],
      "metadata": {
        "colab": {
          "base_uri": "https://localhost:8080/"
        },
        "id": "7AzAsjsuDjR8",
        "outputId": "2d02c552-dc24-4568-9b3c-5924e0b1001a"
      },
      "execution_count": null,
      "outputs": [
        {
          "output_type": "execute_result",
          "data": {
            "text/plain": [
              "(1235, 1)"
            ]
          },
          "metadata": {},
          "execution_count": 9
        }
      ]
    },
    {
      "cell_type": "code",
      "source": [
        "df1"
      ],
      "metadata": {
        "colab": {
          "base_uri": "https://localhost:8080/"
        },
        "id": "X9SUnRU3DmgB",
        "outputId": "21c6310a-c2ce-4d3e-9600-32ea21a46019"
      },
      "execution_count": null,
      "outputs": [
        {
          "output_type": "execute_result",
          "data": {
            "text/plain": [
              "array([[0.50425818],\n",
              "       [0.47758853],\n",
              "       [0.51792918],\n",
              "       ...,\n",
              "       [0.25773196],\n",
              "       [0.2371134 ],\n",
              "       [0.23823398]])"
            ]
          },
          "metadata": {},
          "execution_count": 10
        }
      ]
    },
    {
      "cell_type": "code",
      "source": [
        "#Split the data into train and test split\n",
        "training_size = int(len(df1)* 0.75)\n",
        "test_size =len(df1) - training_size\n",
        "train_data, test_data = df1[0:training_size,:], df1[training_size:len(df1),:1]"
      ],
      "metadata": {
        "id": "S7Aytx7FDpC6"
      },
      "execution_count": null,
      "outputs": []
    },
    {
      "cell_type": "code",
      "source": [
        "#data preprocessing\n",
        "def create_dataset(dataset, time_step = 1):\n",
        "    dataX, dataY = [], []\n",
        "    for i in range(len(dataset) - time_step - 1):\n",
        "        a = dataset[i:(i+time_step), 0]\n",
        "        dataX.append(a)\n",
        "        dataY.append(dataset[i+time_step, 0])\n",
        "        return np.array(dataX), np.array(dataY)"
      ],
      "metadata": {
        "id": "HQWRkuOdDr1B"
      },
      "execution_count": null,
      "outputs": []
    },
    {
      "cell_type": "code",
      "source": [
        "time_step = 100\n",
        "x_train, y_train = create_dataset(train_data, time_step)\n",
        "x_test, y_test = create_dataset(test_data, time_step)"
      ],
      "metadata": {
        "id": "XYrCwpzEDtyx"
      },
      "execution_count": null,
      "outputs": []
    },
    {
      "cell_type": "code",
      "source": [
        "#Reshape the input to be [samples, time steps, features] which is the requirement of LSTM\n",
        "x_train = x_train.reshape(x_train.shape[0], x_train.shape[1], 1)\n",
        "x_test = x_test.reshape(x_test.shape[0], x_test.shape[1], 1)"
      ],
      "metadata": {
        "id": "Daa3DiYcD1NR"
      },
      "execution_count": null,
      "outputs": []
    },
    {
      "cell_type": "code",
      "source": [
        "#Create the LSTM Model\n",
        "model = Sequential()\n",
        "model.add(LSTM(50, return_sequences = True, input_shape = (100,1)))\n",
        "model.add(LSTM(50, return_sequences = True))\n",
        "model.add(LSTM(50))\n",
        "model.add(Dense(1))\n",
        "model.compile(loss = 'mean_squared_error', optimizer ='adam')"
      ],
      "metadata": {
        "id": "AGRD8wcGD8xs"
      },
      "execution_count": null,
      "outputs": []
    },
    {
      "cell_type": "code",
      "source": [
        "model.summary()"
      ],
      "metadata": {
        "colab": {
          "base_uri": "https://localhost:8080/"
        },
        "id": "jl8MqmJOEAK4",
        "outputId": "e03be9da-7a3f-4057-c029-6420aed54cd2"
      },
      "execution_count": null,
      "outputs": [
        {
          "output_type": "stream",
          "name": "stdout",
          "text": [
            "Model: \"sequential\"\n",
            "_________________________________________________________________\n",
            "Layer (type)                 Output Shape              Param #   \n",
            "=================================================================\n",
            "lstm (LSTM)                  (None, 100, 50)           10400     \n",
            "_________________________________________________________________\n",
            "lstm_1 (LSTM)                (None, 100, 50)           20200     \n",
            "_________________________________________________________________\n",
            "lstm_2 (LSTM)                (None, 50)                20200     \n",
            "_________________________________________________________________\n",
            "dense (Dense)                (None, 1)                 51        \n",
            "=================================================================\n",
            "Total params: 50,851\n",
            "Trainable params: 50,851\n",
            "Non-trainable params: 0\n",
            "_________________________________________________________________\n"
          ]
        }
      ]
    },
    {
      "cell_type": "code",
      "source": [
        "model.fit(x_train, y_train, validation_data = (x_test, y_test), epochs = 100, batch_size = 64, verbose = 1)"
      ],
      "metadata": {
        "colab": {
          "base_uri": "https://localhost:8080/"
        },
        "id": "9RNZoWMmECrE",
        "outputId": "9c7cf6f0-2411-4aaa-d2eb-d9d4c8fe48a4"
      },
      "execution_count": null,
      "outputs": [
        {
          "output_type": "stream",
          "name": "stdout",
          "text": [
            "Epoch 1/100\n",
            "1/1 [==============================] - 10s 10s/step - loss: 0.4872 - val_loss: 0.0360\n",
            "Epoch 2/100\n",
            "1/1 [==============================] - 0s 288ms/step - loss: 0.4105 - val_loss: 0.0256\n",
            "Epoch 3/100\n",
            "1/1 [==============================] - 0s 280ms/step - loss: 0.3416 - val_loss: 0.0165\n",
            "Epoch 4/100\n",
            "1/1 [==============================] - 0s 304ms/step - loss: 0.2743 - val_loss: 0.0084\n",
            "Epoch 5/100\n",
            "1/1 [==============================] - 0s 279ms/step - loss: 0.2050 - val_loss: 0.0022\n",
            "Epoch 6/100\n",
            "1/1 [==============================] - 0s 276ms/step - loss: 0.1330 - val_loss: 9.7043e-05\n",
            "Epoch 7/100\n",
            "1/1 [==============================] - 0s 290ms/step - loss: 0.0632 - val_loss: 0.0068\n",
            "Epoch 8/100\n",
            "1/1 [==============================] - 0s 286ms/step - loss: 0.0106 - val_loss: 0.0305\n",
            "Epoch 9/100\n",
            "1/1 [==============================] - 0s 299ms/step - loss: 0.0078 - val_loss: 0.0650\n",
            "Epoch 10/100\n",
            "1/1 [==============================] - 0s 294ms/step - loss: 0.0626 - val_loss: 0.0729\n",
            "Epoch 11/100\n",
            "1/1 [==============================] - 0s 308ms/step - loss: 0.0718 - val_loss: 0.0601\n",
            "Epoch 12/100\n",
            "1/1 [==============================] - 0s 281ms/step - loss: 0.0425 - val_loss: 0.0422\n",
            "Epoch 13/100\n",
            "1/1 [==============================] - 0s 271ms/step - loss: 0.0139 - val_loss: 0.0274\n",
            "Epoch 14/100\n",
            "1/1 [==============================] - 0s 288ms/step - loss: 0.0010 - val_loss: 0.0175\n",
            "Epoch 15/100\n",
            "1/1 [==============================] - 0s 287ms/step - loss: 0.0015 - val_loss: 0.0116\n",
            "Epoch 16/100\n",
            "1/1 [==============================] - 0s 275ms/step - loss: 0.0084 - val_loss: 0.0084\n",
            "Epoch 17/100\n",
            "1/1 [==============================] - 0s 279ms/step - loss: 0.0161 - val_loss: 0.0069\n",
            "Epoch 18/100\n",
            "1/1 [==============================] - 0s 290ms/step - loss: 0.0214 - val_loss: 0.0066\n",
            "Epoch 19/100\n",
            "1/1 [==============================] - 0s 313ms/step - loss: 0.0234 - val_loss: 0.0073\n",
            "Epoch 20/100\n",
            "1/1 [==============================] - 0s 294ms/step - loss: 0.0221 - val_loss: 0.0089\n",
            "Epoch 21/100\n",
            "1/1 [==============================] - 0s 318ms/step - loss: 0.0183 - val_loss: 0.0116\n",
            "Epoch 22/100\n",
            "1/1 [==============================] - 0s 299ms/step - loss: 0.0130 - val_loss: 0.0154\n",
            "Epoch 23/100\n",
            "1/1 [==============================] - 0s 288ms/step - loss: 0.0075 - val_loss: 0.0206\n",
            "Epoch 24/100\n",
            "1/1 [==============================] - 0s 310ms/step - loss: 0.0030 - val_loss: 0.0269\n",
            "Epoch 25/100\n",
            "1/1 [==============================] - 0s 297ms/step - loss: 4.0466e-04 - val_loss: 0.0340\n",
            "Epoch 26/100\n",
            "1/1 [==============================] - 0s 276ms/step - loss: 1.9823e-04 - val_loss: 0.0412\n",
            "Epoch 27/100\n",
            "1/1 [==============================] - 0s 274ms/step - loss: 0.0020 - val_loss: 0.0473\n",
            "Epoch 28/100\n",
            "1/1 [==============================] - 0s 294ms/step - loss: 0.0047 - val_loss: 0.0514\n",
            "Epoch 29/100\n",
            "1/1 [==============================] - 0s 291ms/step - loss: 0.0068 - val_loss: 0.0528\n",
            "Epoch 30/100\n",
            "1/1 [==============================] - 0s 313ms/step - loss: 0.0074 - val_loss: 0.0515\n",
            "Epoch 31/100\n",
            "1/1 [==============================] - 0s 310ms/step - loss: 0.0062 - val_loss: 0.0481\n",
            "Epoch 32/100\n",
            "1/1 [==============================] - 0s 294ms/step - loss: 0.0041 - val_loss: 0.0436\n",
            "Epoch 33/100\n",
            "1/1 [==============================] - 0s 274ms/step - loss: 0.0019 - val_loss: 0.0389\n",
            "Epoch 34/100\n",
            "1/1 [==============================] - 0s 281ms/step - loss: 4.9927e-04 - val_loss: 0.0346\n",
            "Epoch 35/100\n",
            "1/1 [==============================] - 0s 284ms/step - loss: 1.4763e-06 - val_loss: 0.0309\n",
            "Epoch 36/100\n",
            "1/1 [==============================] - 0s 279ms/step - loss: 3.0330e-04 - val_loss: 0.0282\n",
            "Epoch 37/100\n",
            "1/1 [==============================] - 0s 278ms/step - loss: 0.0010 - val_loss: 0.0264\n",
            "Epoch 38/100\n",
            "1/1 [==============================] - 0s 294ms/step - loss: 0.0018 - val_loss: 0.0254\n",
            "Epoch 39/100\n",
            "1/1 [==============================] - 0s 273ms/step - loss: 0.0024 - val_loss: 0.0252\n",
            "Epoch 40/100\n",
            "1/1 [==============================] - 0s 277ms/step - loss: 0.0026 - val_loss: 0.0259\n",
            "Epoch 41/100\n",
            "1/1 [==============================] - 0s 277ms/step - loss: 0.0023 - val_loss: 0.0271\n",
            "Epoch 42/100\n",
            "1/1 [==============================] - 0s 288ms/step - loss: 0.0018 - val_loss: 0.0290\n",
            "Epoch 43/100\n",
            "1/1 [==============================] - 0s 275ms/step - loss: 0.0011 - val_loss: 0.0314\n",
            "Epoch 44/100\n",
            "1/1 [==============================] - 0s 277ms/step - loss: 4.7749e-04 - val_loss: 0.0340\n",
            "Epoch 45/100\n",
            "1/1 [==============================] - 0s 280ms/step - loss: 9.4102e-05 - val_loss: 0.0368\n",
            "Epoch 46/100\n",
            "1/1 [==============================] - 0s 280ms/step - loss: 5.7708e-06 - val_loss: 0.0394\n",
            "Epoch 47/100\n",
            "1/1 [==============================] - 0s 275ms/step - loss: 1.7758e-04 - val_loss: 0.0416\n",
            "Epoch 48/100\n",
            "1/1 [==============================] - 0s 273ms/step - loss: 4.8572e-04 - val_loss: 0.0430\n",
            "Epoch 49/100\n",
            "1/1 [==============================] - 0s 298ms/step - loss: 7.7023e-04 - val_loss: 0.0437\n",
            "Epoch 50/100\n",
            "1/1 [==============================] - 0s 267ms/step - loss: 9.0300e-04 - val_loss: 0.0435\n",
            "Epoch 51/100\n",
            "1/1 [==============================] - 0s 273ms/step - loss: 8.3800e-04 - val_loss: 0.0426\n",
            "Epoch 52/100\n",
            "1/1 [==============================] - 0s 281ms/step - loss: 6.1910e-04 - val_loss: 0.0412\n",
            "Epoch 53/100\n",
            "1/1 [==============================] - 0s 287ms/step - loss: 3.4600e-04 - val_loss: 0.0395\n",
            "Epoch 54/100\n",
            "1/1 [==============================] - 0s 270ms/step - loss: 1.2162e-04 - val_loss: 0.0377\n",
            "Epoch 55/100\n",
            "1/1 [==============================] - 0s 278ms/step - loss: 9.6754e-06 - val_loss: 0.0361\n",
            "Epoch 56/100\n",
            "1/1 [==============================] - 0s 299ms/step - loss: 1.8496e-05 - val_loss: 0.0348\n",
            "Epoch 57/100\n",
            "1/1 [==============================] - 0s 291ms/step - loss: 1.1074e-04 - val_loss: 0.0338\n",
            "Epoch 58/100\n",
            "1/1 [==============================] - 0s 287ms/step - loss: 2.2746e-04 - val_loss: 0.0333\n",
            "Epoch 59/100\n",
            "1/1 [==============================] - 0s 285ms/step - loss: 3.1376e-04 - val_loss: 0.0332\n",
            "Epoch 60/100\n",
            "1/1 [==============================] - 0s 284ms/step - loss: 3.3691e-04 - val_loss: 0.0335\n",
            "Epoch 61/100\n",
            "1/1 [==============================] - 0s 283ms/step - loss: 2.9326e-04 - val_loss: 0.0342\n",
            "Epoch 62/100\n",
            "1/1 [==============================] - 0s 268ms/step - loss: 2.0434e-04 - val_loss: 0.0351\n",
            "Epoch 63/100\n",
            "1/1 [==============================] - 0s 283ms/step - loss: 1.0534e-04 - val_loss: 0.0361\n",
            "Epoch 64/100\n",
            "1/1 [==============================] - 0s 280ms/step - loss: 3.0492e-05 - val_loss: 0.0373\n",
            "Epoch 65/100\n",
            "1/1 [==============================] - 0s 272ms/step - loss: 3.6955e-07 - val_loss: 0.0383\n",
            "Epoch 66/100\n",
            "1/1 [==============================] - 0s 281ms/step - loss: 1.5553e-05 - val_loss: 0.0392\n",
            "Epoch 67/100\n",
            "1/1 [==============================] - 0s 304ms/step - loss: 5.8661e-05 - val_loss: 0.0398\n",
            "Epoch 68/100\n",
            "1/1 [==============================] - 0s 293ms/step - loss: 1.0367e-04 - val_loss: 0.0401\n",
            "Epoch 69/100\n",
            "1/1 [==============================] - 0s 291ms/step - loss: 1.2805e-04 - val_loss: 0.0401\n",
            "Epoch 70/100\n",
            "1/1 [==============================] - 0s 314ms/step - loss: 1.2199e-04 - val_loss: 0.0397\n",
            "Epoch 71/100\n",
            "1/1 [==============================] - 0s 293ms/step - loss: 9.0728e-05 - val_loss: 0.0392\n",
            "Epoch 72/100\n",
            "1/1 [==============================] - 0s 278ms/step - loss: 4.9715e-05 - val_loss: 0.0385\n",
            "Epoch 73/100\n",
            "1/1 [==============================] - 0s 278ms/step - loss: 1.6033e-05 - val_loss: 0.0378\n",
            "Epoch 74/100\n",
            "1/1 [==============================] - 0s 293ms/step - loss: 6.3241e-07 - val_loss: 0.0371\n",
            "Epoch 75/100\n",
            "1/1 [==============================] - 0s 310ms/step - loss: 4.7963e-06 - val_loss: 0.0366\n",
            "Epoch 76/100\n",
            "1/1 [==============================] - 0s 293ms/step - loss: 2.1461e-05 - val_loss: 0.0362\n",
            "Epoch 77/100\n",
            "1/1 [==============================] - 0s 342ms/step - loss: 3.9781e-05 - val_loss: 0.0360\n",
            "Epoch 78/100\n",
            "1/1 [==============================] - 0s 295ms/step - loss: 5.0367e-05 - val_loss: 0.0360\n",
            "Epoch 79/100\n",
            "1/1 [==============================] - 0s 286ms/step - loss: 4.8900e-05 - val_loss: 0.0363\n",
            "Epoch 80/100\n",
            "1/1 [==============================] - 0s 274ms/step - loss: 3.7036e-05 - val_loss: 0.0366\n",
            "Epoch 81/100\n",
            "1/1 [==============================] - 0s 300ms/step - loss: 2.0688e-05 - val_loss: 0.0371\n",
            "Epoch 82/100\n",
            "1/1 [==============================] - 0s 284ms/step - loss: 6.8278e-06 - val_loss: 0.0375\n",
            "Epoch 83/100\n",
            "1/1 [==============================] - 0s 282ms/step - loss: 2.9271e-07 - val_loss: 0.0380\n",
            "Epoch 84/100\n",
            "1/1 [==============================] - 0s 291ms/step - loss: 1.9782e-06 - val_loss: 0.0383\n",
            "Epoch 85/100\n",
            "1/1 [==============================] - 0s 294ms/step - loss: 9.0101e-06 - val_loss: 0.0386\n",
            "Epoch 86/100\n",
            "1/1 [==============================] - 0s 276ms/step - loss: 1.6611e-05 - val_loss: 0.0387\n",
            "Epoch 87/100\n",
            "1/1 [==============================] - 0s 277ms/step - loss: 2.0597e-05 - val_loss: 0.0387\n",
            "Epoch 88/100\n",
            "1/1 [==============================] - 0s 304ms/step - loss: 1.9223e-05 - val_loss: 0.0385\n",
            "Epoch 89/100\n",
            "1/1 [==============================] - 0s 305ms/step - loss: 1.3609e-05 - val_loss: 0.0383\n",
            "Epoch 90/100\n",
            "1/1 [==============================] - 0s 307ms/step - loss: 6.7130e-06 - val_loss: 0.0380\n",
            "Epoch 91/100\n",
            "1/1 [==============================] - 0s 312ms/step - loss: 1.6080e-06 - val_loss: 0.0377\n",
            "Epoch 92/100\n",
            "1/1 [==============================] - 0s 352ms/step - loss: 7.9086e-09 - val_loss: 0.0374\n",
            "Epoch 93/100\n",
            "1/1 [==============================] - 0s 309ms/step - loss: 1.6988e-06 - val_loss: 0.0372\n",
            "Epoch 94/100\n",
            "1/1 [==============================] - 0s 308ms/step - loss: 4.9885e-06 - val_loss: 0.0371\n",
            "Epoch 95/100\n",
            "1/1 [==============================] - 0s 283ms/step - loss: 7.7670e-06 - val_loss: 0.0370\n",
            "Epoch 96/100\n",
            "1/1 [==============================] - 0s 276ms/step - loss: 8.5695e-06 - val_loss: 0.0371\n",
            "Epoch 97/100\n",
            "1/1 [==============================] - 0s 275ms/step - loss: 7.1524e-06 - val_loss: 0.0372\n",
            "Epoch 98/100\n",
            "1/1 [==============================] - 0s 295ms/step - loss: 4.3910e-06 - val_loss: 0.0374\n",
            "Epoch 99/100\n",
            "1/1 [==============================] - 0s 281ms/step - loss: 1.6777e-06 - val_loss: 0.0376\n",
            "Epoch 100/100\n",
            "1/1 [==============================] - 0s 280ms/step - loss: 1.5877e-07 - val_loss: 0.0378\n"
          ]
        },
        {
          "output_type": "execute_result",
          "data": {
            "text/plain": [
              "<tensorflow.python.keras.callbacks.History at 0x7fb4c8be2d10>"
            ]
          },
          "metadata": {},
          "execution_count": 17
        }
      ]
    },
    {
      "cell_type": "code",
      "source": [
        "#Lets predict and check performance metrics\n",
        "train_predict = model.predict(x_train)\n",
        "test_predict = model.predict(x_test)"
      ],
      "metadata": {
        "id": "zP1oVxM8ES3K"
      },
      "execution_count": null,
      "outputs": []
    },
    {
      "cell_type": "code",
      "source": [
        "#Transform back to original form\n",
        "train_predict = scaler.inverse_transform(train_predict)\n",
        "test_predict = scaler.inverse_transform(test_predict)"
      ],
      "metadata": {
        "id": "pvp_Hja8EWKD"
      },
      "execution_count": null,
      "outputs": []
    },
    {
      "cell_type": "code",
      "source": [
        "#Calculate RMSE performamce metrics\n",
        "math.sqrt(mean_squared_error(y_train, train_predict))"
      ],
      "metadata": {
        "colab": {
          "base_uri": "https://localhost:8080/"
        },
        "id": "vUWbBHcTEZje",
        "outputId": "c47c83d8-a0e8-4c1c-95dd-35449bd576e5"
      },
      "execution_count": null,
      "outputs": [
        {
          "output_type": "execute_result",
          "data": {
            "text/plain": [
              "255.31729972699148"
            ]
          },
          "metadata": {},
          "execution_count": 20
        }
      ]
    },
    {
      "cell_type": "code",
      "source": [
        "#Plotting \n",
        "#Shift train prediction for plotting\n",
        "look_back = 100\n",
        "trainPredictPlot = np.empty_like(df1)\n",
        "trainPredictPlot[:,:] = np.nan\n",
        "trainPredictPlot[look_back:len(train_predict) + look_back, :] = train_predict"
      ],
      "metadata": {
        "id": "-lbeGs6aEcC1"
      },
      "execution_count": null,
      "outputs": []
    },
    {
      "cell_type": "code",
      "source": [
        "#Shift test prediction for plotting\n",
        "testPredictPlot = np.empty_like(df1)\n",
        "testPredictPlot[:,:] = np.nan\n",
        "testPredictPlot[len(train_predict) + (look_back * 2)+1:len(df1) - 1, :] = test_predict"
      ],
      "metadata": {
        "id": "nHzXKbEGEdP0"
      },
      "execution_count": null,
      "outputs": []
    },
    {
      "cell_type": "code",
      "source": [
        "#Plot baseline and predictions\n",
        "plt.plot(scaler.inverse_transform(df1))\n",
        "plt.plot(trainPredictPlot)\n",
        "plt.plot(testPredictPlot)\n",
        "plt.show()"
      ],
      "metadata": {
        "colab": {
          "base_uri": "https://localhost:8080/",
          "height": 265
        },
        "id": "PK7NGY2LEfrJ",
        "outputId": "b313c754-f277-44a3-c9c5-b5837f7da422"
      },
      "execution_count": null,
      "outputs": [
        {
          "output_type": "display_data",
          "data": {
            "text/plain": [
              "<Figure size 432x288 with 1 Axes>"
            ],
            "image/png": "[encoded data removed]"
          },
          "metadata": {
            "needs_background": "light"
          }
        }
      ]
    },
    {
      "cell_type": "code",
      "source": [],
      "metadata": {
        "id": "V3pcXeLgEhs-"
      },
      "execution_count": null,
      "outputs": []
    }
  ]
}